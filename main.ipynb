{
 "cells": [
  {
   "cell_type": "markdown",
   "metadata": {},
   "source": [
    "## Laboratorio 2: Redes Neuronales\n",
    "### Miguel Valle - 17102\n",
    "\n",
    "El objetivo de este laboratorio fue implementar un algoritmo de redes neuronales para la creación de un modelo de predicción basada en la clasificación de imágenes de ropa según el tipo de prenda al que pertenece"
   ]
  },
  {
   "cell_type": "markdown",
   "metadata": {},
   "source": [
    "### Funciones "
   ]
  },
  {
   "cell_type": "code",
   "execution_count": 1,
   "metadata": {},
   "outputs": [],
   "source": [
    "#Se importan las librerias que se van a utilizar\n",
    "import numpy as np\n",
    "import mnist_reader\n",
    "import pandas as pd\n",
    "from functools import reduce\n",
    "from scipy import optimize as op"
   ]
  },
  {
   "cell_type": "code",
   "execution_count": 2,
   "metadata": {},
   "outputs": [],
   "source": [
    "#Metodo para preparar las matrices de thetas y que estas se \n",
    "#puedan operar con los datos\n",
    "def inflate_matrixes(flat_thetas, shapes):\n",
    "    layers = len(shapes) + 1\n",
    "    sizes = [shape[0] * shape[1] for shape in shapes]\n",
    "    steps = np.zeros(layers, dtype=int)\n",
    "    for i in range(layers - 1):\n",
    "        steps[i + 1] = steps[i] + sizes[i]\n",
    "\n",
    "    return [\n",
    "        flat_thetas[steps[i]: steps[i + 1]].reshape(*shapes[i])\n",
    "        for i in range(layers - 1)\n",
    "    ]"
   ]
  },
  {
   "cell_type": "code",
   "execution_count": 17,
   "metadata": {},
   "outputs": [],
   "source": [
    "#Funcion de sigmoide para la evaluacion de los datos\n",
    "def sigmoid(v):\n",
    "    s = [(1 / (1 + np.exp(-i))) for i in v]\n",
    "    return np.asarray(s).reshape(v.shape)"
   ]
  },
  {
   "cell_type": "code",
   "execution_count": 4,
   "metadata": {},
   "outputs": [],
   "source": [
    "#Funcion de foward propagation para calcular la salida de \n",
    "#cada capa de neuronas\n",
    "def feed_forward(thetas, X):\n",
    "    a = [np.asarray(X)]\n",
    "    for i in range(len(thetas)):\n",
    "        a.append(\n",
    "            sigmoid(\n",
    "                np.matmul(\n",
    "                    np.hstack((\n",
    "                        np.ones(len(X)).reshape(len(X), 1),\n",
    "                        a[i]\n",
    "                    )), thetas[i].T\n",
    "                )\n",
    "            )            \n",
    "        )\n",
    "    return a"
   ]
  },
  {
   "cell_type": "code",
   "execution_count": 5,
   "metadata": {},
   "outputs": [],
   "source": [
    "#Funcion de costo para la salida de cada capa de neuronas\n",
    "def cost_function(flat_thetas, shapes, X, Y):\n",
    "    a = feed_forward(\n",
    "        inflate_matrixes(flat_thetas, shapes),\n",
    "        X\n",
    "    )\n",
    "    return -(Y * np.log(a[-1]) + (1 - Y) * np.log(1 - a[-1])).sum() / len(X)"
   ]
  },
  {
   "cell_type": "code",
   "execution_count": 18,
   "metadata": {},
   "outputs": [],
   "source": [
    "#Funcion de back propagation para calcular el gradiente\n",
    "def cost_function_jacobian(flat_thetas, shapes, X, Y):\n",
    "    m, layers = len(X), len(shapes) + 1\n",
    "    thetas = inflate_matrixes(flat_thetas, shapes)\n",
    "    f = feed_forward(thetas, X)\n",
    "    d = [*range(layers - 1), f[-1] - Y]\n",
    "    for i in range(layers - 2, 0, -1):\n",
    "        d[i] = (d[i + 1] @ np.delete(thetas[i], 0, 1)) * (f[i] * (1 - f[i]))\n",
    "    Deltas = []\n",
    "    for i in range(layers - 1):\n",
    "        Deltas.append(\n",
    "            (d[i + 1].T @ np.hstack((\n",
    "                np.ones(len(f[i])).reshape(len(f[i]), 1), f[i]\n",
    "            ))) / m\n",
    "        )\n",
    "    Deltas = np.asarray(Deltas)\n",
    "    return flatten_list_of_arrays(\n",
    "        Deltas\n",
    "    )"
   ]
  },
  {
   "cell_type": "code",
   "execution_count": 7,
   "metadata": {},
   "outputs": [],
   "source": [
    "#Funcion para preparar los datos para Scipy\n",
    "flatten_list_of_arrays = lambda list_of_arrays: reduce(\n",
    "    lambda acc, v: np.array([*acc.flatten(), *v.flatten()]),\n",
    "    list_of_arrays\n",
    ")"
   ]
  },
  {
   "cell_type": "markdown",
   "metadata": {},
   "source": [
    "### Preparacion del Modelo"
   ]
  },
  {
   "cell_type": "markdown",
   "metadata": {},
   "source": [
    "A continuación se cargan los datos de enternamiento de los archivos de entrenamiento y de prueba. Dado que ambos contienen los valores de las matrices de las imágenes y el número que indica la categoría a la que pertenece la prenda en la imágen, el modelo se entrena utilizando todos los datos ya que mientras más datos se utilizan mejor."
   ]
  },
  {
   "cell_type": "markdown",
   "metadata": {},
   "source": [
    "### Nota: Debido a que el tamaño del archivo fashion-mnist_train.csv es mayor a limite de 100mb que tiene github, no se pudo subir sin comprimirlo antes, por lo cual si se desea probar el codigo se debe clonar el repositorio y extraer el archivo fashion-mnist_train.zip"
   ]
  },
  {
   "cell_type": "code",
   "execution_count": 8,
   "metadata": {},
   "outputs": [],
   "source": [
    "#Se leen los datos de prueba\n",
    "dataset_test = pd.read_csv('fashion-mnist_test.csv')\n",
    "\n",
    "#Se leen los datos de entrenamiento\n",
    "dataset_train = pd.read_csv('fashion-mnist_train.csv')\n",
    "\n",
    "#Se obtienen los datos de las imagenes y la clasificacion\n",
    "#de tipo de prenda para cada imagen\n",
    "x1 = dataset_train.iloc[:, 1:] / 1000.0\n",
    "m1, n1 = x1.shape\n",
    "x2 = dataset_test.iloc[:, 1:] / 1000.0\n",
    "m2, n2 = x2.shape\n",
    "y1 = np.asarray(dataset_train.iloc[:, 0])\n",
    "y1 = y1.reshape(m1, 1)\n",
    "y2 = np.asarray(dataset_test.iloc[:, 0])\n",
    "y2 = y2.reshape(m2, 1)\n",
    "#Se juntan los datos de test y train para tener mayor\n",
    "#cantidad de datos para entrenar el modelo\n",
    "X = np.vstack((\n",
    "    x1,\n",
    "    x2\n",
    "))\n",
    "m, n = X.shape\n",
    "#Se juntan los datos de clasificacion de test y train correspondientes\n",
    "y = np.vstack((\n",
    "    y1,\n",
    "    y2\n",
    "))\n",
    "y = y.reshape(m, 1)\n",
    "\n",
    "#Se prepara la matriz de clasificacion de prenda\n",
    "Y = (y == np.array(range(10))).astype(int)"
   ]
  },
  {
   "cell_type": "markdown",
   "metadata": {},
   "source": [
    "Se define la estructura de la red neuronal, se preparan los theta iniciales de forma aleatoria con la forma necesaria para luego iniciar el proceso de entrenamiento del modelo"
   ]
  },
  {
   "cell_type": "markdown",
   "metadata": {},
   "source": [
    "#### Nota: No se recomiendo ejecutar este bloque de codigo ya que el entrenamiento puede durar mucho tiempo, por lo cual se recomiendo seguir al bloque en el cual se prueba la efectividad del modelo producido."
   ]
  },
  {
   "cell_type": "code",
   "execution_count": 26,
   "metadata": {},
   "outputs": [
    {
     "name": "stdout",
     "output_type": "stream",
     "text": [
      "Lectura de mnist_train\n",
      "Lectura de mnist_test\n",
      "(70000, 784)\n",
      "(70000, 10)\n",
      "(2, 2)\n"
     ]
    },
    {
     "name": "stderr",
     "output_type": "stream",
     "text": [
      "c:\\users\\hecto\\documents\\uvg 2020\\inteligencia artificial\\lab 2\\lab2-ia\\lib\\site-packages\\ipykernel_launcher.py:6: RuntimeWarning: divide by zero encountered in log\n",
      "  \n",
      "c:\\users\\hecto\\documents\\uvg 2020\\inteligencia artificial\\lab 2\\lab2-ia\\lib\\site-packages\\ipykernel_launcher.py:6: RuntimeWarning: invalid value encountered in multiply\n",
      "  \n"
     ]
    },
    {
     "name": "stdout",
     "output_type": "stream",
     "text": [
      "      fun: nan\n",
      " hess_inv: <103360x103360 LbfgsInvHessProduct with dtype=float64>\n",
      "      jac: array([ 9.61879487e-06,  2.64313123e-13,  2.88470994e-10, ...,\n",
      "       -8.07560078e-05, -8.07504521e-05, -8.07510232e-05])\n",
      "  message: b'STOP: TOTAL NO. of ITERATIONS REACHED LIMIT'\n",
      "     nfev: 10741\n",
      "      nit: 3000\n",
      "   status: 1\n",
      "  success: False\n",
      "        x: array([-2.30253597,  0.32329947,  0.61515723, ..., -0.8653714 ,\n",
      "       -0.8958914 ,  0.09391501])\n",
      "[-2.30253597  0.32329947  0.61515723 ... -0.8653714  -0.8958914\n",
      "  0.09391501]\n"
     ]
    }
   ],
   "source": [
    "#Se define la estructura de la red neuronal\n",
    "red = np.array([\n",
    "    n,\n",
    "    130,\n",
    "    10\n",
    "])\n",
    "#Se obtienen los shapes de los diferentes matrices de theta\n",
    "#para cada capa\n",
    "theta_shapes = np.hstack((\n",
    "    red[1:].reshape(len(red) - 1, 1),\n",
    "    (red[:-1] + 1).reshape(len(red) - 1, 1)\n",
    "))\n",
    "#Se generan valores aleatorio iniciales para los thetas\n",
    "flat_thetas = flatten_list_of_arrays([\n",
    "    np.random.rand(*theta_shape) \n",
    "    for theta_shape in theta_shapes\n",
    "])\n",
    "#Se inicia el modelo de la red neuronal\n",
    "result = op.minimize(\n",
    "    fun=cost_function,\n",
    "    x0=flat_thetas,\n",
    "    args=(theta_shapes,X,Y),\n",
    "    method='L-BFGS-B',\n",
    "    jac=cost_function_jacobian,\n",
    "    options={'disp': True, 'maxiter': 3000}\n",
    ")\n",
    "\n",
    "print(result)\n",
    "print(result.x)"
   ]
  },
  {
   "cell_type": "code",
   "execution_count": 27,
   "metadata": {},
   "outputs": [],
   "source": [
    "#Se almacenan los theta resultantes en un archivo de texto \n",
    "np.savetxt('thetas.txt', result.x)"
   ]
  },
  {
   "cell_type": "markdown",
   "metadata": {},
   "source": [
    "### Prueba de Modelo"
   ]
  },
  {
   "cell_type": "markdown",
   "metadata": {},
   "source": [
    "Por si solo se desea probar el modelo producido se carga de nuevo el archivo de datos para pruebas, y se cargan los valores de theta producidos por el entrenamiento del modelo anteriormente."
   ]
  },
  {
   "cell_type": "code",
   "execution_count": 9,
   "metadata": {},
   "outputs": [],
   "source": [
    "dataset_test = pd.read_csv('fashion-mnist_test.csv')\n",
    "x_test = dataset_test.iloc[:, 1:] / 1000.0\n",
    "y_test = np.asarray(dataset_test.iloc[:, 0]).reshape(x_test.shape[0], 1)"
   ]
  },
  {
   "cell_type": "code",
   "execution_count": 11,
   "metadata": {},
   "outputs": [],
   "source": [
    "red = np.array([\n",
    "    n,\n",
    "    130,\n",
    "    10\n",
    "])\n",
    "theta_shapes = np.hstack((\n",
    "    red[1:].reshape(len(red) - 1, 1),\n",
    "    (red[:-1] + 1).reshape(len(red) - 1, 1)\n",
    "))\n",
    "thetas_r = np.loadtxt(\"thetas.txt\")\n",
    "thetas = inflate_matrixes(thetas_r, theta_shapes)\n",
    "f = feed_forward(thetas, x_test)\n",
    "eva = np.argmax(f[-1], axis = 1)"
   ]
  },
  {
   "cell_type": "code",
   "execution_count": 19,
   "metadata": {},
   "outputs": [
    {
     "name": "stdout",
     "output_type": "stream",
     "text": [
      "Aciertos:  90.3  %\n"
     ]
    }
   ],
   "source": [
    "exito = 0\n",
    "for i in range(len(f[-1])):\n",
    "    if (eva[i] == y_test[i][0]):\n",
    "        exito += 1\n",
    "print(\"Aciertos: \", exito * 100/len(f[-1]),\" %\")"
   ]
  },
  {
   "cell_type": "markdown",
   "metadata": {},
   "source": [
    "## Conclusiones"
   ]
  },
  {
   "cell_type": "markdown",
   "metadata": {},
   "source": [
    "Como se puede observar en el bloque de arriba, se logró crear un modelo a partir del dataset proveído, de tal manera que al utilizarlo para realizar la clasificación de un dataset de imágenes de prueba, esta clasificación acertó en el 90.3 % de las imágenes, lo cual se puede considerar como un buen modelo."
   ]
  }
 ],
 "metadata": {
  "kernelspec": {
   "display_name": "Python 3",
   "language": "python",
   "name": "python3"
  },
  "language_info": {
   "codemirror_mode": {
    "name": "ipython",
    "version": 3
   },
   "file_extension": ".py",
   "mimetype": "text/x-python",
   "name": "python",
   "nbconvert_exporter": "python",
   "pygments_lexer": "ipython3",
   "version": "3.7.3"
  }
 },
 "nbformat": 4,
 "nbformat_minor": 4
}
